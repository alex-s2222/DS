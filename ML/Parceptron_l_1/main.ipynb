{
 "cells": [
  {
   "cell_type": "markdown",
   "metadata": {
    "vscode": {
     "languageId": "plaintext"
    }
   },
   "source": [
    "### Модель перцептрона, способную классифицировать качество связи на основе данных телекоммуникаций"
   ]
  },
  {
   "cell_type": "code",
   "execution_count": 3,
   "metadata": {},
   "outputs": [],
   "source": [
    "import numpy as np"
   ]
  },
  {
   "cell_type": "code",
   "execution_count": 6,
   "metadata": {},
   "outputs": [
    {
     "data": {
      "text/plain": [
       "array([[-7.87637964e+01,  1.59715453e+01,  1.92609494e+01],\n",
       "       [-6.14785708e+01,  1.30917978e+02,  2.52419895e+00],\n",
       "       [-6.80401817e+01,  6.97276364e+01,  4.84886142e+00],\n",
       "       [-7.20402455e+01,  1.06628431e+02,  2.69566257e+01],\n",
       "       [-8.53194408e+01,  1.82437630e+02,  1.81928718e+01],\n",
       "       [-8.53201644e+01,  5.73655235e+01,  2.75911548e-01],\n",
       "       [-8.82574916e+01,  8.79727554e+01,  3.04414629e+00],\n",
       "       [-6.40147156e+01,  1.53554716e+02,  1.99050531e+01],\n",
       "       [-7.19665496e+01,  5.34716514e+01,  1.51847515e-01],\n",
       "       [-6.87578227e+01,  2.46261829e+01,  4.82424154e+00],\n",
       "       [-8.93824652e+01,  6.50527761e+01,  1.64620137e+01],\n",
       "       [-6.09027044e+01,  4.06320446e+01,  2.07568559e+01],\n",
       "       [-6.50267208e+01,  1.86642554e+02,  1.95588378e+01],\n",
       "       [-8.36298267e+01,  1.63542872e+02,  6.72807928e+00],\n",
       "       [-8.45452510e+01,  1.30346714e+02,  2.13653766e+01],\n",
       "       [-8.44978647e+01,  1.75577512e+02,  7.11747262e+00],\n",
       "       [-8.08727327e+01,  1.62697695e+02,  9.76199094e+00],\n",
       "       [-7.42573071e+01,  4.54483112e+01,  2.23947422e+01],\n",
       "       [-7.70416494e+01,  1.79586210e+02,  1.94889870e+01],\n",
       "       [-8.12631258e+01,  1.12475026e+02,  2.54767023e+01],\n",
       "       [-7.16444132e+01,  1.63413629e+02,  1.97283868e+01],\n",
       "       [-8.58151842e+01,  1.80257347e+02,  1.70492581e+01],\n",
       "       [-8.12356605e+01,  7.04206602e+01,  2.81024303e+00],\n",
       "       [-7.90091447e+01,  3.09098657e+01,  1.10314741e+01],\n",
       "       [-7.63179005e+01,  5.33076809e+01,  7.95607103e+00],\n",
       "       [-6.64447212e+01,  9.11504798e+01,  7.31968930e+00],\n",
       "       [-8.40097865e+01,  1.65422806e+02,  2.91903166e+01],\n",
       "       [-7.45729668e+01,  1.73538811e+02,  1.17929317e+01],\n",
       "       [-7.22275629e+01,  1.13209048e+01,  2.67613967e+01],\n",
       "       [-8.86064876e+01,  1.07041987e+02,  1.89341588e+01],\n",
       "       [-7.17736544e+01,  8.93080906e+01,  2.38443391e+01],\n",
       "       [-8.48842763e+01,  5.22004840e+01,  1.50791128e+01],\n",
       "       [-8.80484522e+01,  3.27744198e+01,  1.73071165e+01],\n",
       "       [-6.15334339e+01,  7.41468826e+01,  1.47755308e+01],\n",
       "       [-6.10310390e+01,  1.89152844e+02,  5.85728963e+00],\n",
       "       [-6.57480796e+01,  7.14085571e+01,  2.16735635e+01],\n",
       "       [-8.08615869e+01,  1.08570218e+02,  8.42317087e+00],\n",
       "       [-8.70698366e+01,  1.43573602e+02,  7.29478993e-01],\n",
       "       [-6.94730092e+01,  7.90896245e+01,  1.93641689e+01],\n",
       "       [-7.67954252e+01,  1.94638596e+02,  5.31332038e+00],\n",
       "       [-8.63388530e+01,  1.92864986e+02,  2.82137575e+01],\n",
       "       [-7.51446927e+01,  5.78386362e+01,  2.86178573e+01],\n",
       "       [-8.89683444e+01,  1.04477216e+02,  2.74459317e+01],\n",
       "       [-6.27203879e+01,  6.71668789e+01,  1.11047610e+01],\n",
       "       [-8.22366006e+01,  6.41196939e+01,  4.63698496e-01],\n",
       "       [-7.01243315e+01,  1.70085200e+01,  2.78495569e+01],\n",
       "       [-8.06486677e+01,  1.25817223e+02,  1.28455244e+01],\n",
       "       [-7.43979594e+01,  1.05509014e+02,  2.89996446e+01],\n",
       "       [-7.35986916e+01,  1.97809627e+01,  2.89085993e+01],\n",
       "       [-8.44543663e+01,  6.29428282e+01,  2.55902837e+01],\n",
       "       [-6.09124612e+01,  1.82570518e+02,  8.83346676e+00],\n",
       "       [-6.67460153e+01,  5.55167592e+01,  1.15529319e+01],\n",
       "       [-6.18150318e+01,  3.75300257e+01,  2.55341001e+01],\n",
       "       [-6.31551795e+01,  1.02996024e+02,  9.50766015e+00],\n",
       "       [-7.20630006e+01,  1.97273586e+02,  5.08478240e+00],\n",
       "       [-6.23437729e+01,  5.59905016e+01,  1.67040379e+01],\n",
       "       [-8.73452249e+01,  1.37705754e+02,  2.80846432e+01],\n",
       "       [-8.41205141e+01,  1.54707727e+02,  2.08808939e+01],\n",
       "       [-8.86431813e+01,  5.51511334e+01,  1.71018351e+01],\n",
       "       [-8.02400901e+01,  1.48361106e+02,  2.91529481e+00],\n",
       "       [-7.83396813e+01,  7.98787952e+01,  1.84502168e+01],\n",
       "       [-8.18595290e+01,  1.30138108e+02,  2.97016155e+01],\n",
       "       [-6.51378747e+01,  1.30370645e+02,  4.20252046e+00],\n",
       "       [-7.92974002e+01,  1.11797190e+02,  1.55498896e+01],\n",
       "       [-8.15719647e+01,  2.71550563e+01,  2.63211922e+01],\n",
       "       [-7.37191175e+01,  1.68707474e+02,  2.22230585e+01],\n",
       "       [-8.57722733e+01,  7.09482123e+01,  2.09104722e+01],\n",
       "       [-6.59340906e+01,  4.54385170e+01,  2.10745225e+01],\n",
       "       [-8.77634807e+01,  1.77472769e+01,  1.07847345e+01],\n",
       "       [-6.03933919e+01,  1.22269659e+02,  8.80775533e+00],\n",
       "       [-6.68326569e+01,  1.38737229e+02,  2.42808347e+01],\n",
       "       [-8.40385296e+01,  1.31516875e+01,  2.43034018e+01],\n",
       "       [-8.98343365e+01,  1.07297681e+02,  2.60121696e+01],\n",
       "       [-6.55361571e+01,  5.30341973e+01,  2.73972166e+01],\n",
       "       [-6.87942797e+01,  1.32582830e+02,  1.53402720e+01],\n",
       "       [-6.81297850e+01,  4.31296215e+01,  1.50454888e+01],\n",
       "       [-6.68618896e+01,  1.41278170e+02,  2.39488554e+01],\n",
       "       [-8.77786604e+01,  8.34797158e+01,  1.94989179e+01],\n",
       "       [-7.92460281e+01,  1.87978698e+02,  2.10590063e+01],\n",
       "       [-8.65239282e+01,  3.61289794e+01,  2.38737801e+01],\n",
       "       [-6.41068972e+01,  7.48026067e+01,  2.67001603e+01],\n",
       "       [-7.13010562e+01,  3.15599690e+01,  1.01398547e+01],\n",
       "       [-8.00730593e+01,  1.85691787e+02,  1.12674886e+01],\n",
       "       [-8.80932495e+01,  1.76694477e+02,  2.81945820e+00],\n",
       "       [-8.06705303e+01,  5.90089093e+01,  1.73484042e+01],\n",
       "       [-8.02445003e+01,  1.35396969e+02,  1.07826821e+00],\n",
       "       [-6.81118146e+01,  1.65272218e+02,  1.39679405e+01],\n",
       "       [-7.08732759e+01,  1.15488154e+02,  1.62793390e+01],\n",
       "       [-6.33836177e+01,  1.10633610e+02,  8.59623756e+00],\n",
       "       [-7.58335522e+01,  5.59519353e+01,  1.77249978e+01],\n",
       "       [-8.64121726e+01,  2.76895259e+01,  9.15007498e-01],\n",
       "       [-6.86026564e+01,  1.80470994e+02,  1.12044566e+00],\n",
       "       [-6.71764485e+01,  1.81079431e+02,  2.46780168e+01],\n",
       "       [-7.31616841e+01,  1.30289277e+02,  1.08057192e+01],\n",
       "       [-6.68709846e+01,  7.44156603e+01,  3.81181538e+00],\n",
       "       [-7.51861321e+01,  7.63498192e+01,  1.56672978e+01],\n",
       "       [-7.43180151e+01,  1.47931579e+02,  2.30998066e+01],\n",
       "       [-7.71737694e+01,  1.80450949e+02,  6.47463082e+00],\n",
       "       [-8.92374262e+01,  1.78546421e+02,  1.86867143e+01],\n",
       "       [-8.67632572e+01,  1.58176354e+02,  2.56042395e+00]])"
      ]
     },
     "execution_count": 6,
     "metadata": {},
     "output_type": "execute_result"
    }
   ],
   "source": [
    "np.random.seed(42)\n",
    "\n",
    "#  генерация данных \n",
    "signal = np.random.uniform(-90, -60, 100)\n",
    "delay = np.random.uniform(10, 200, 100)\n",
    "noise = np.random.uniform(0, 30, 100)\n",
    "\n",
    "y = np.where((signal > -70) & (delay < 100) & (noise < 20), 1, 0)\n",
    "x = np.column_stack((signal, delay, noise))\n",
    "x"
   ]
  },
  {
   "cell_type": "code",
   "execution_count": 5,
   "metadata": {},
   "outputs": [
    {
     "data": {
      "text/plain": [
       "array([[-0.32311215, -1.59922959,  0.42619627],\n",
       "       [ 1.62343393,  0.47516709, -1.48468335],\n",
       "       [ 0.88450935, -0.62911286, -1.21927041],\n",
       "       [ 0.43404902,  0.03682243,  1.30483224],\n",
       "       [-1.06136481,  1.40492361,  0.30425099],\n",
       "       [-1.0614463 , -0.85220744, -1.74137635],\n",
       "       [-1.39222838, -0.2998498 , -1.42531957],\n",
       "       [ 1.33783032,  0.88368412,  0.49973531],\n",
       "       [ 0.44234815, -0.92247874, -1.75554107],\n",
       "       [ 0.80369344, -1.44304247, -1.22208133],\n",
       "       [-1.51891535, -0.71347838,  0.10663429],\n",
       "       [ 1.68828413, -1.15419048,  0.59698793],\n",
       "       [ 1.22386509,  1.48080835,  0.46020699],\n",
       "       [-0.87109182,  1.06393675, -1.00471507],\n",
       "       [-0.97418076,  0.46485769,  0.66646437],\n",
       "       [-0.96884443,  1.28112154, -0.96025699],\n",
       "       [-0.5606064 ,  1.04868414, -0.65832525],\n",
       "       [ 0.18437843, -1.06727306,  0.78398978],\n",
       "       [-0.12917552,  1.35346506,  0.45223193],\n",
       "       [-0.60456985,  0.14233381,  1.13586543],\n",
       "       [ 0.478625  ,  1.06160435,  0.47956485],\n",
       "       [-1.11719211,  1.36557683,  0.17368155],\n",
       "       [-0.6014769 , -0.61660611, -1.45202493],\n",
       "       [-0.35074163, -1.32964312, -0.51338496],\n",
       "       [-0.04767177, -0.92543786, -0.86451197],\n",
       "       [ 1.06417941, -0.24250256, -0.93716937],\n",
       "       [-0.91388034,  1.09786323,  1.55985872],\n",
       "       [ 0.14883094,  1.24432984, -0.4264473 ],\n",
       "       [ 0.41295459, -1.68315801,  1.28254242],\n",
       "       [-1.43152996,  0.04428573,  0.38888571],\n",
       "       [ 0.46407071, -0.27575149,  0.94949415],\n",
       "       [-1.01235951, -0.94541904, -0.05125521],\n",
       "       [-1.36868776, -1.29599419,  0.20312194],\n",
       "       [ 1.61725561, -0.54936033, -0.08591598],\n",
       "       [ 1.67383195,  1.52611064, -1.10413546],\n",
       "       [ 1.14263051, -0.59877789,  0.70165088],\n",
       "       [-0.55935124,  0.07186516, -0.81118193],\n",
       "       [-1.25848264,  0.70355856, -1.68959134],\n",
       "       [ 0.72315394, -0.46016045,  0.43798112],\n",
       "       [-0.1014474 ,  1.62511002, -1.16624189],\n",
       "       [-1.17616417,  1.59310233,  1.44836236],\n",
       "       [ 0.08444702, -0.84366935,  1.49449951],\n",
       "       [-1.47227984, -0.00199977,  1.36069762],\n",
       "       [ 1.48358882, -0.67532593, -0.5050176 ],\n",
       "       [-0.71419604, -0.73031737, -1.71993621],\n",
       "       [ 0.6498064 , -1.58051568,  1.40678059],\n",
       "       [-0.53537371,  0.38311562, -0.30626998],\n",
       "       [ 0.16853911,  0.01662072,  1.53808918],\n",
       "       [ 0.25854728, -1.53048241,  1.5276943 ],\n",
       "       [-0.96394594, -0.75155584,  1.14883332],\n",
       "       [ 1.68718539,  1.4073218 , -0.76433735],\n",
       "       [ 1.03024969, -0.88557142, -0.45384873],\n",
       "       [ 1.58554395, -1.21017149,  1.14241869],\n",
       "       [ 1.43462551, -0.0287303 , -0.68736288],\n",
       "       [ 0.43148649,  1.67266274, -1.19233468],\n",
       "       [ 1.52600067, -0.87702196,  0.13426684],\n",
       "       [-1.28949503,  0.59766363,  1.43362103],\n",
       "       [-0.92634974,  0.90449208,  0.61114968],\n",
       "       [-1.43566216, -0.89216974,  0.17968441],\n",
       "       [-0.48936243,  0.78995691, -1.44003089],\n",
       "       [-0.27535116, -0.44591857,  0.33363276],\n",
       "       [-0.67173278,  0.46109306,  1.61823509],\n",
       "       [ 1.21134768,  0.46528957, -1.29306489],\n",
       "       [-0.38320303,  0.13010115,  0.00249463],\n",
       "       [-0.63934921, -1.39740481,  1.2322831 ],\n",
       "       [ 0.24498572,  1.15714045,  0.76438821],\n",
       "       [-1.11235977, -0.60708557,  0.61452671],\n",
       "       [ 1.1216832 , -1.06744981,  0.63325677],\n",
       "       [-1.33659618, -1.5671836 , -0.54155588],\n",
       "       [ 1.74563949,  0.31909401, -0.76727289],\n",
       "       [ 1.02049269,  0.61627828,  0.99933002],\n",
       "       [-0.91711719, -1.65011854,  1.00190657],\n",
       "       [-1.56980206,  0.04890014,  1.19700116],\n",
       "       [ 1.16649579, -0.93037332,  1.35513569],\n",
       "       [ 0.7995879 ,  0.50521208, -0.02143797],\n",
       "       [ 0.87441884, -1.10911761, -0.05509415],\n",
       "       [ 1.0172007 ,  0.66213373,  0.96142705],\n",
       "       [-1.33830562, -0.38093406,  0.45336578],\n",
       "       [-0.37741785,  1.50492125,  0.63148525],\n",
       "       [-1.1970061 , -1.23545567,  0.95285551],\n",
       "       [ 1.32744945, -0.53752671,  1.2755509 ],\n",
       "       [ 0.51729156, -1.31791094, -0.61518354],\n",
       "       [-0.47055254,  1.46365021, -0.48643856],\n",
       "       [-1.37373253,  1.30127901, -1.45097281],\n",
       "       [-0.53783573, -0.82254985,  0.20783587],\n",
       "       [-0.48985909,  0.55599782, -1.64976914],\n",
       "       [ 0.87644253,  1.09514563, -0.17812072],\n",
       "       [ 0.56546531,  0.19671064,  0.08577783],\n",
       "       [ 1.40890033,  0.10910244, -0.79142244],\n",
       "       [ 0.00687228, -0.87771796,  0.25083257],\n",
       "       [-1.18442094, -1.38775943, -1.66840905],\n",
       "       [ 0.82116723,  1.36943244, -1.64495362],\n",
       "       [ 0.98177718,  1.38041268,  1.04467737],\n",
       "       [ 0.30776014,  0.46382115, -0.53916   ],\n",
       "       [ 1.01617648, -0.54450979, -1.33767274],\n",
       "       [ 0.07978039, -0.50960473,  0.01589945],\n",
       "       [ 0.17754189,  0.78220539,  0.86448888],\n",
       "       [-0.14405399,  1.3690707 , -1.03365196],\n",
       "       [-1.50258203,  1.33470036,  0.36063431],\n",
       "       [-1.22395773,  0.96708913, -1.48054745]])"
      ]
     },
     "execution_count": 5,
     "metadata": {},
     "output_type": "execute_result"
    }
   ],
   "source": [
    "# Нормализуем данные\n",
    "\n",
    "from sklearn.preprocessing import StandardScaler\n",
    "scaler = StandardScaler()\n",
    "X_scaled = scaler.fit_transform(x)\n",
    "X_scaled"
   ]
  },
  {
   "cell_type": "code",
   "execution_count": 10,
   "metadata": {},
   "outputs": [],
   "source": [
    "\n",
    "class Perceptron:\n",
    "    def __init__(self, lerning_rate=0.01, n_iters=100):\n",
    "        self.lr = lerning_rate\n",
    "        self.n_iters = n_iters\n",
    "        self.weights = None\n",
    "        self.bias = None\n",
    "\n",
    "    def fit(self, x, y):\n",
    "        n_sample, n_festures = x.shape\n",
    "        self.weights = np.zeros(n_festures)\n",
    "        self.bias = 0 \n",
    "\n",
    "        for _ in range(self.n_iters):\n",
    "            for idx, x_i in enumerate(x):\n",
    "                linear_output = np.dot(x_i, self.weights) + self.bias\n",
    "                y_pred = 1 if linear_output >= 0 else 0 \n",
    "                update = self.lr * (y[idx] - y_pred)\n",
    "                self.weights += update * x_i\n",
    "                self.bias += update\n",
    "\n",
    "    def predict(self, x):\n",
    "        linear_output = np.dot(x, self.weights) + self.bias\n",
    "        return np.where(linear_output >= 0, 1, 0)"
   ]
  },
  {
   "cell_type": "code",
   "execution_count": null,
   "metadata": {},
   "outputs": [],
   "source": [
    "# разделяем данные\n",
    "from sklearn.model_selection import train_test_split\n",
    "\n",
    "x_train, x_test, y_train, y_test = train_test_split(X_scaled, y, test_size=0.2)"
   ]
  },
  {
   "cell_type": "code",
   "execution_count": 12,
   "metadata": {},
   "outputs": [],
   "source": [
    "# обучаем модель на тестовых данных\n",
    "perceptron = Perceptron(lerning_rate=0.01, n_iters=100)\n",
    "perceptron.fit(x_train, y_train)\n"
   ]
  },
  {
   "cell_type": "code",
   "execution_count": 17,
   "metadata": {},
   "outputs": [
    {
     "name": "stdout",
     "output_type": "stream",
     "text": [
      "Точность модели: 95.00%\n"
     ]
    }
   ],
   "source": [
    "from sklearn.metrics import accuracy_score\n",
    "\n",
    "y_pred = perceptron.predict(x_test)\n",
    "accuracy = accuracy_score(y_test, y_pred)\n",
    "print(f\"Точность модели: {accuracy * 100:.2f}%\")\n",
    "\n"
   ]
  },
  {
   "cell_type": "code",
   "execution_count": 18,
   "metadata": {},
   "outputs": [
    {
     "data": {
      "image/png": "[encoded data removed]",
      "text/plain": [
       "<Figure size 640x480 with 1 Axes>"
      ]
     },
     "metadata": {},
     "output_type": "display_data"
    }
   ],
   "source": [
    "import matplotlib.pyplot as plt\n",
    "\n",
    "plt.scatter(X_scaled[:, 0], X_scaled[:, 1], c=y, cmap=\"viridis\")\n",
    "x1 = np.linspace(-2, 2, 100)\n",
    "x2 = -(perceptron.weights[0] * x1 + perceptron.bias) / perceptron.weights[1]\n",
    "\n",
    "plt.plot(x1, x2, 'r--', label=\"Разделяющая граница\")\n",
    "plt.xlabel('Нормализированный уровень сигнала')\n",
    "plt.ylabel('Нормализированная задержка')\n",
    "plt.legend()\n",
    "plt.show()"
   ]
  },
  {
   "cell_type": "code",
   "execution_count": null,
   "metadata": {},
   "outputs": [],
   "source": []
  }
 ],
 "metadata": {
  "kernelspec": {
   "display_name": "venv",
   "language": "python",
   "name": "python3"
  },
  "language_info": {
   "codemirror_mode": {
    "name": "ipython",
    "version": 3
   },
   "file_extension": ".py",
   "mimetype": "text/x-python",
   "name": "python",
   "nbconvert_exporter": "python",
   "pygments_lexer": "ipython3",
   "version": "3.11.8"
  }
 },
 "nbformat": 4,
 "nbformat_minor": 2
}
